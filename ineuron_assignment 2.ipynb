{
 "cells": [
  {
   "cell_type": "markdown",
   "id": "70546e94",
   "metadata": {},
   "source": [
    "Create the below pattern using nested for loop in python"
   ]
  },
  {
   "cell_type": "code",
   "execution_count": 1,
   "id": "d50f6cec",
   "metadata": {},
   "outputs": [
    {
     "name": "stdout",
     "output_type": "stream",
     "text": [
      "*\n",
      "**\n",
      "***\n",
      "****\n",
      "*****\n",
      "****\n",
      "***\n",
      "**\n",
      "*\n"
     ]
    }
   ],
   "source": [
    "for i in range(1,6):\n",
    "  print(\"*\"*i)\n",
    "  if i==5:\n",
    "    for x in range(4,0,-1):\n",
    "      print(\"*\"*x)"
   ]
  },
  {
   "cell_type": "markdown",
   "id": "286c2390",
   "metadata": {},
   "source": [
    "2. Write a Python program to reverse a word after accepting the input from the user"
   ]
  },
  {
   "cell_type": "code",
   "execution_count": 2,
   "id": "659e4d49",
   "metadata": {},
   "outputs": [
    {
     "name": "stdout",
     "output_type": "stream",
     "text": [
      "enter the wordinueron\n"
     ]
    },
    {
     "data": {
      "text/plain": [
       "'noreuni'"
      ]
     },
     "execution_count": 2,
     "metadata": {},
     "output_type": "execute_result"
    }
   ],
   "source": [
    "word=input(\"enter the word\")\n",
    "word[::-1]"
   ]
  },
  {
   "cell_type": "code",
   "execution_count": null,
   "id": "f6ea62c0",
   "metadata": {},
   "outputs": [],
   "source": []
  }
 ],
 "metadata": {
  "kernelspec": {
   "display_name": "Python 3",
   "language": "python",
   "name": "python3"
  },
  "language_info": {
   "codemirror_mode": {
    "name": "ipython",
    "version": 3
   },
   "file_extension": ".py",
   "mimetype": "text/x-python",
   "name": "python",
   "nbconvert_exporter": "python",
   "pygments_lexer": "ipython3",
   "version": "3.8.8"
  }
 },
 "nbformat": 4,
 "nbformat_minor": 5
}
